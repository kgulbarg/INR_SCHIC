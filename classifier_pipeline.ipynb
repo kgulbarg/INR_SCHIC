{
 "cells": [
  {
   "cell_type": "code",
   "execution_count": 1,
   "id": "e6178bda-82c6-4381-8eda-1397acce9364",
   "metadata": {},
   "outputs": [
    {
     "name": "stdout",
     "output_type": "stream",
     "text": [
      "Using device: cuda\n"
     ]
    }
   ],
   "source": [
    "import os\n",
    "import numpy as np\n",
    "import pandas as pd\n",
    "\n",
    "import torch\n",
    "import torch.nn as nn\n",
    "import torch.optim as optim\n",
    "import torch.nn.functional as F\n",
    "from sklearn.metrics import confusion_matrix, classification_report\n",
    "\n",
    "\n",
    "# Checking CUDA availability\n",
    "device = torch.device(\"cuda\" if torch.cuda.is_available() else \"cpu\")\n",
    "print(\"Using device:\", device)"
   ]
  },
  {
   "cell_type": "code",
   "execution_count": 2,
   "id": "bf258ed4-5e4c-4ac0-aab4-610bdc18be4b",
   "metadata": {},
   "outputs": [],
   "source": [
    "data_root = \"/home/kgulbarg/thesis/INR_SCHIC/Nagano_Data\"\n",
    "LABEL_TO_ID = {\"G1\": 0, \"early_S\": 1, \"mid_S\": 2, \"late_S\": 3}\n",
    "emb_dim = 256"
   ]
  },
  {
   "cell_type": "code",
   "execution_count": 3,
   "id": "f475b31d-e0bd-482d-bcdc-a14c1bb7d643",
   "metadata": {},
   "outputs": [
    {
     "name": "stdout",
     "output_type": "stream",
     "text": [
      "Collected latent representations for G1 cells.\n",
      "Collected latent representations for early_S cells.\n",
      "Collected latent representations for late_S cells.\n",
      "Collected latent representations for mid_S cells.\n",
      "(1171, 256)\n",
      "(1171,)\n"
     ]
    }
   ],
   "source": [
    "X, y = [], []\n",
    "\n",
    "for label in sorted(os.listdir(data_root)):\n",
    "    label_dir = os.path.join(data_root, label)\n",
    "\n",
    "    # only real label folders\n",
    "    if not os.path.isdir(label_dir) or label not in LABEL_TO_ID:\n",
    "        continue\n",
    "\n",
    "    # iterate files inside the label folder\n",
    "    for name in sorted(os.listdir(label_dir)):\n",
    "        if not (name.endswith(\"_latent.npy\") and\n",
    "                os.path.isfile(os.path.join(label_dir, name))):\n",
    "            continue\n",
    "\n",
    "        latent_path = os.path.join(label_dir, name)\n",
    "        vec = np.load(latent_path).ravel()\n",
    "        X.append(vec)\n",
    "        y.append(LABEL_TO_ID[label])\n",
    "\n",
    "    print(f\"Collected latent representations for {label} cells.\")\n",
    "\n",
    "\n",
    "X = np.vstack(X)\n",
    "y = np.array(y)     \n",
    "\n",
    "print(X.shape)\n",
    "print(y.shape)"
   ]
  },
  {
   "cell_type": "code",
   "execution_count": 4,
   "id": "9f4e7a51-7b03-4939-b9d8-9757a9c0653f",
   "metadata": {},
   "outputs": [],
   "source": [
    "def train_classifier(latent_vecs, labels, epochs=500, lr=5e-3, val_split=0.2, seed=0):\n",
    "    device = torch.device(\"cuda\" if torch.cuda.is_available() else \"cpu\")\n",
    "\n",
    "    X = torch.as_tensor(latent_vecs, dtype=torch.float32, device=device)\n",
    "    y = torch.as_tensor(labels,     dtype=torch.long,   device=device).view(-1)\n",
    "\n",
    "    class Classifier(nn.Module):\n",
    "        def __init__(self, emb_dim=256):\n",
    "            super().__init__()\n",
    "            self.norm = nn.LayerNorm(emb_dim)\n",
    "            self.fc1  = nn.Linear(emb_dim, 128)\n",
    "            self.fc2  = nn.Linear(128, 64)\n",
    "            self.fc3  = nn.Linear(64, 4)\n",
    "            self.drop = nn.Dropout(0.1)    # avoid overfitting\n",
    "        def forward(self, x):\n",
    "            x = self.norm(x)\n",
    "            x = F.relu(self.fc1(x)); x = self.drop(x)\n",
    "            x = F.relu(self.fc2(x))\n",
    "            return self.fc3(x)   # logits\n",
    "\n",
    "    # stratified split\n",
    "    idx_tr_list, idx_val_list = [], []\n",
    "    cpu_y = y.cpu().numpy()\n",
    "    for c in range(4):\n",
    "        idxs = np.where(cpu_y == c)[0]\n",
    "        rng = np.random.default_rng(seed)\n",
    "        rng.shuffle(idxs)\n",
    "        cut_c = int((1 - val_split) * len(idxs))\n",
    "        idx_tr_list.append(torch.as_tensor(idxs[:cut_c], device=device))\n",
    "        idx_val_list.append(torch.as_tensor(idxs[cut_c:], device=device))\n",
    "    idx_tr = torch.cat(idx_tr_list); idx_val = torch.cat(idx_val_list)\n",
    "    Xtr, Xval = X[idx_tr], X[idx_val]; ytr, yval = y[idx_tr], y[idx_val]\n",
    "\n",
    "    # train\n",
    "    model = Classifier().to(device)\n",
    "    opt = optim.Adam(model.parameters(), lr=lr, weight_decay=1e-4)\n",
    "    loss_fn = nn.CrossEntropyLoss()\n",
    "    for epoch in range(epochs):\n",
    "        opt.zero_grad()\n",
    "        loss = loss_fn(model(Xtr), ytr)\n",
    "        loss.backward(); opt.step()\n",
    "        # print(f\"epoch {epoch}, loss {loss.item():.4f}\")\n",
    "\n",
    "    # evaluate\n",
    "    with torch.no_grad():\n",
    "        train_acc = (model(Xtr).argmax(1) == ytr).float().mean().item()\n",
    "        val_logits = model(Xval)\n",
    "        val_acc = (val_logits.argmax(1) == yval).float().mean().item()\n",
    "        yp = val_logits.argmax(1).cpu().numpy()\n",
    "\n",
    "    print(confusion_matrix(yval.cpu().numpy(), yp))\n",
    "    print(classification_report(yval.cpu().numpy(), yp, digits=3))\n",
    "\n",
    "    return model, train_acc, val_acc\n"
   ]
  },
  {
   "cell_type": "code",
   "execution_count": 5,
   "id": "7870c442-5142-4c90-acd2-9832de5a1298",
   "metadata": {},
   "outputs": [
    {
     "name": "stdout",
     "output_type": "stream",
     "text": [
      "[[14  9 16 17]\n",
      " [ 9 15 17 20]\n",
      " [13  8 13 19]\n",
      " [18 17 13 18]]\n",
      "              precision    recall  f1-score   support\n",
      "\n",
      "           0      0.259     0.250     0.255        56\n",
      "           1      0.306     0.246     0.273        61\n",
      "           2      0.220     0.245     0.232        53\n",
      "           3      0.243     0.273     0.257        66\n",
      "\n",
      "    accuracy                          0.254       236\n",
      "   macro avg      0.257     0.253     0.254       236\n",
      "weighted avg      0.258     0.254     0.255       236\n",
      "\n",
      "train acc = 1.000, val acc = 0.254\n"
     ]
    }
   ],
   "source": [
    "model, train_acc, val_acc = train_classifier(X, y)\n",
    "print(f\"train acc = {train_acc:.3f}, val acc = {val_acc:.3f}\")"
   ]
  },
  {
   "cell_type": "code",
   "execution_count": null,
   "id": "a27e7e0f-2dd3-491c-921e-41e69ca7ae69",
   "metadata": {},
   "outputs": [],
   "source": []
  }
 ],
 "metadata": {
  "kernelspec": {
   "display_name": "Python 3 (ipykernel)",
   "language": "python",
   "name": "python3"
  },
  "language_info": {
   "codemirror_mode": {
    "name": "ipython",
    "version": 3
   },
   "file_extension": ".py",
   "mimetype": "text/x-python",
   "name": "python",
   "nbconvert_exporter": "python",
   "pygments_lexer": "ipython3",
   "version": "3.12.9"
  }
 },
 "nbformat": 4,
 "nbformat_minor": 5
}
