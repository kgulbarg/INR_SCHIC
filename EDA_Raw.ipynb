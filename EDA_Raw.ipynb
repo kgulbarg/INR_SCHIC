{
 "cells": [
  {
   "cell_type": "code",
   "execution_count": 1,
   "id": "02b5e369-e5f6-4860-82f5-43e27b9a5e5a",
   "metadata": {},
   "outputs": [],
   "source": [
    "import pandas as pd"
   ]
  },
  {
   "cell_type": "code",
   "execution_count": 2,
   "id": "d9367c3c-9414-44ed-a75f-4dfdb9ed5f68",
   "metadata": {},
   "outputs": [],
   "source": [
    "csv_path = \"Nagano.csv\""
   ]
  },
  {
   "cell_type": "code",
   "execution_count": 6,
   "id": "eebaa5fb-6ee3-4c32-9243-67b50a1778cc",
   "metadata": {},
   "outputs": [],
   "source": [
    "df = pd.read_csv(csv_path)"
   ]
  },
  {
   "cell_type": "code",
   "execution_count": 4,
   "id": "06b7a1ae-4422-43c6-889a-dc0305aace6f",
   "metadata": {},
   "outputs": [
    {
     "name": "stdout",
     "output_type": "stream",
     "text": [
      "Total rows: 292535239\n"
     ]
    }
   ],
   "source": [
    "# Total rows\n",
    "print(\"Total rows:\", len(df))"
   ]
  },
  {
   "cell_type": "code",
   "execution_count": 36,
   "id": "53e7f555-2189-4d71-a7d6-32942eab1496",
   "metadata": {},
   "outputs": [
    {
     "name": "stdout",
     "output_type": "stream",
     "text": [
      "Rows per Target_label:\n",
      "Target_label\n",
      "late_S     32.280354\n",
      "early_S    24.071272\n",
      "mid_S      24.016368\n",
      "G1         19.632006\n",
      "Name: proportion, dtype: float64\n"
     ]
    }
   ],
   "source": [
    "# Row counts per Target_label\n",
    "print(\"Rows per Target_label:\")\n",
    "print(df[\"Target_label\"].value_counts(normalize=True)*100)"
   ]
  },
  {
   "cell_type": "code",
   "execution_count": 11,
   "id": "37ca2eed-bbf1-40e2-a233-f3bc1542dee3",
   "metadata": {},
   "outputs": [
    {
     "name": "stdout",
     "output_type": "stream",
     "text": [
      "Rows per Cell_name:\n",
      "Cell_name\n",
      "G1_40         608140\n",
      "late_S_184    586930\n",
      "late_S_221    586882\n",
      "mid_S_171     560421\n",
      "late_S_101    548449\n",
      "late_S_277    546444\n",
      "late_S_137    543309\n",
      "late_S_234    542589\n",
      "late_S_213    532971\n",
      "late_S_113    531115\n",
      "Name: count, dtype: int64\n"
     ]
    }
   ],
   "source": [
    "# Row counts per Cell_name\n",
    "print(\"Rows per Cell_name:\")\n",
    "print(df[\"Cell_name\"].value_counts().head(10))  # show top 10"
   ]
  },
  {
   "cell_type": "code",
   "execution_count": 10,
   "id": "e3b67f2e-114b-4c58-aa23-962f63e8afe4",
   "metadata": {},
   "outputs": [
    {
     "name": "stdout",
     "output_type": "stream",
     "text": [
      "Rows per Chr_name:\n",
      "Chr_name\n",
      "chr2     21888343\n",
      "chr1     21804981\n",
      "chr5     17313148\n",
      "chr3     17143905\n",
      "chr4     17124064\n",
      "chr6     16569386\n",
      "chr11    16065966\n",
      "chr8     15830165\n",
      "chr7     15378191\n",
      "chr9     15087948\n",
      "chr10    14862704\n",
      "chrX     14401190\n",
      "chr12    13164526\n",
      "chr13    13079802\n",
      "chr14    12575276\n",
      "chr15    11827485\n",
      "chr16    11004760\n",
      "chr17    10188434\n",
      "chr18    10118543\n",
      "chr19     7106422\n",
      "Name: count, dtype: int64\n"
     ]
    }
   ],
   "source": [
    "# Row counts per Chr_name\n",
    "print(\"Rows per Chr_name:\")\n",
    "print(df[\"Chr_name\"].value_counts())"
   ]
  },
  {
   "cell_type": "code",
   "execution_count": 16,
   "id": "42f5fe97-5613-4db9-9dbe-db7a880e5ffc",
   "metadata": {},
   "outputs": [
    {
     "name": "stdout",
     "output_type": "stream",
     "text": [
      "Rows per Target_label + Chr_name:\n",
      "Chr_name         chr1    chr10    chr11    chr12    chr13    chr14    chr15  \\\n",
      "Target_label                                                                  \n",
      "G1            4374973  2936143  3017599  2616920  2564672  2487174  2329429   \n",
      "early_S       5172479  3544360  4031959  3170111  3045172  3001336  2870712   \n",
      "late_S        7073364  4802520  5027731  4233037  4249493  4099531  3805091   \n",
      "mid_S         5184165  3579681  3988677  3144458  3220465  2987235  2822253   \n",
      "\n",
      "Chr_name        chr16    chr17    chr18    chr19     chr2     chr3     chr4  \\\n",
      "Target_label                                                                  \n",
      "G1            2205266  1953264  2028159  1358093  4262419  3493095  3309854   \n",
      "early_S       2667796  2507229  2383917  1730464  5327268  4059766  4212153   \n",
      "late_S        3548419  3245340  3286900  2265583  6993849  5617997  5452976   \n",
      "mid_S         2583279  2482601  2419567  1752282  5304807  3973047  4149081   \n",
      "\n",
      "Chr_name         chr5     chr6     chr7     chr8     chr9     chrX  \n",
      "Target_label                                                        \n",
      "G1            3391507  3258639  2951258  3100342  2924276  2867454  \n",
      "early_S       4206689  3970641  3724272  3733603  3612964  3444062  \n",
      "late_S        5542621  5357172  4929563  5270876  4859752  4769595  \n",
      "mid_S         4172331  3982934  3773098  3725344  3690956  3320079  \n"
     ]
    }
   ],
   "source": [
    "# Summary table by label + chromosome\n",
    "print(\"Rows per Target_label + Chr_name:\")\n",
    "print(df.groupby([\"Target_label\", \"Chr_name\"]).size().unstack(fill_value=0))"
   ]
  },
  {
   "cell_type": "code",
   "execution_count": 17,
   "id": "f8575499-ea2c-4fb7-8e83-ecebddc2695f",
   "metadata": {},
   "outputs": [
    {
     "name": "stdout",
     "output_type": "stream",
     "text": [
      "       Target_label  Cell_name   Chr_name\n",
      "count     292535239  292535239  292535239\n",
      "unique            4       1171         20\n",
      "top          late_S      G1_40       chr2\n",
      "freq       94431410     608140   21888343\n"
     ]
    }
   ],
   "source": [
    "# Overview of columns\n",
    "print(df[[\"Target_label\", \"Cell_name\", \"Chr_name\"]].describe())"
   ]
  },
  {
   "cell_type": "code",
   "execution_count": 21,
   "id": "ba06eb9d-9ba7-4fc7-89ad-34c72805bfb9",
   "metadata": {},
   "outputs": [
    {
     "name": "stdout",
     "output_type": "stream",
     "text": [
      "              Bin_1         Bin_2         Count\n",
      "count  2.925352e+08  2.925352e+08  2.925352e+08\n",
      "mean   7.172581e+01  7.422596e+01  1.110306e+00\n",
      "std    4.317731e+01  4.335973e+01  3.515687e-01\n",
      "min    0.000000e+00  3.000000e+00  1.000000e+00\n",
      "25%    3.600000e+01  3.800000e+01  1.000000e+00\n",
      "50%    6.900000e+01  7.200000e+01  1.000000e+00\n",
      "75%    1.030000e+02  1.060000e+02  1.000000e+00\n",
      "max    1.970000e+02  1.970000e+02  2.700000e+01\n"
     ]
    }
   ],
   "source": [
    "# Overview of numeric columns\n",
    "print(df[[\"Bin_1\", \"Bin_2\", \"Count\"]].describe())"
   ]
  },
  {
   "cell_type": "code",
   "execution_count": 18,
   "id": "ddccf692-de32-4ba0-b90b-5b1d497b8b77",
   "metadata": {},
   "outputs": [
    {
     "name": "stdout",
     "output_type": "stream",
     "text": [
      "Value ranges:\n",
      "Bin_1: min=0, max=197\n",
      "Bin_2: min=3, max=197\n",
      "Count: min=1, max=27\n"
     ]
    }
   ],
   "source": [
    "# Overall minimum and maximum\n",
    "print(\"Value ranges:\")\n",
    "for col in [\"Bin_1\", \"Bin_2\", \"Count\"]:\n",
    "    print(f\"{col}: min={df[col].min()}, max={df[col].max()}\")"
   ]
  },
  {
   "cell_type": "code",
   "execution_count": 20,
   "id": "311adc41-6788-4931-940e-ac62e4c3e8b8",
   "metadata": {},
   "outputs": [
    {
     "name": "stdout",
     "output_type": "stream",
     "text": [
      "Ranges by Chr_name:\n",
      "         Bin_1      Bin_2      Count    \n",
      "           min  max   min  max   min max\n",
      "Chr_name                                \n",
      "chr1         3  197     3  197     1   8\n",
      "chr10        3  129     3  129     1   9\n",
      "chr11        3  121     3  121     1  12\n",
      "chr12        3  121     3  121     1   8\n",
      "chr13        3  120     3  120     1   9\n",
      "chr14        3  125     4  125     1   9\n",
      "chr15        3  103     3  103     1  27\n",
      "chr16        3   98     3   98     1   8\n",
      "chr17        0   95     3   95     1   9\n",
      "chr18        3   90     3   90     1  10\n",
      "chr19        3   61     3   61     1  10\n",
      "chr2         3  181     3  181     1   8\n",
      "chr3         3  159     3  159     1   9\n",
      "chr4         3  155     3  155     1   9\n",
      "chr5         3  152     3  152     1   9\n",
      "chr6         3  149     3  149     1   8\n",
      "chr7         3  152     3  152     1   8\n",
      "chr8         3  131     3  131     1   8\n",
      "chr9         3  124     3  124     1   8\n",
      "chrX         3  166     3  166     1   8\n"
     ]
    }
   ],
   "source": [
    "# Minimum and maximum across all cells (of all types) for each chrom\n",
    "print(\"Ranges by Chr_name:\")\n",
    "print(df.groupby(\"Chr_name\")[[\"Bin_1\", \"Bin_2\", \"Count\"]].agg([\"min\", \"max\"]))"
   ]
  },
  {
   "cell_type": "code",
   "execution_count": 22,
   "id": "3c15596a-231b-4e8c-b5d9-73ba6f5c9c36",
   "metadata": {},
   "outputs": [
    {
     "name": "stdout",
     "output_type": "stream",
     "text": [
      "Missing values per column:\n",
      "Target_label    0\n",
      "Cell_name       0\n",
      "Chr_name        0\n",
      "Bin_1           0\n",
      "Bin_2           0\n",
      "Count           0\n",
      "dtype: int64\n"
     ]
    }
   ],
   "source": [
    "# Count NaN values per column\n",
    "print(\"Missing values per column:\")\n",
    "print(df.isna().sum())"
   ]
  },
  {
   "cell_type": "code",
   "execution_count": 37,
   "id": "15020f4c-cff6-4e3c-94bf-2676f073cd03",
   "metadata": {},
   "outputs": [
    {
     "name": "stdout",
     "output_type": "stream",
     "text": [
      "Duplicate full rows: 90.22025821648106 %\n"
     ]
    }
   ],
   "source": [
    "# Check full duplicate rows\n",
    "dup_all = df.duplicated().sum()\n",
    "print(f\"Duplicate full rows: {(dup_all/len(df))*100} %\")"
   ]
  },
  {
   "cell_type": "code",
   "execution_count": 28,
   "id": "fbf69f9b-70ed-4fb4-80d0-d856cc2dbd1f",
   "metadata": {},
   "outputs": [
    {
     "name": "stdout",
     "output_type": "stream",
     "text": [
      "Duplicate contact entries (ignoring Count): 272320343\n",
      "Duplicate contact entries (ignoring Count): 272320343\n"
     ]
    }
   ],
   "source": [
    "# Check duplicates based only on the contact identifiers\n",
    "dup_contacts = df.duplicated(\n",
    "    subset=[\"Target_label\", \"Cell_name\", \"Chr_name\", \"Bin_1\", \"Bin_2\"]\n",
    ").sum()\n",
    "print(f\"Duplicate contact entries (ignoring Count): {dup_contacts}\")\n",
    "\n",
    "# Should be same as:\n",
    "# Duplicates based only on the contact identifiers\n",
    "dup_contacts = df.duplicated(\n",
    "    subset=[\"Cell_name\", \"Chr_name\", \"Bin_1\", \"Bin_2\"]\n",
    ").sum()\n",
    "print(f\"Duplicate contact entries (ignoring Count): {dup_contacts}\")"
   ]
  },
  {
   "cell_type": "code",
   "execution_count": 29,
   "id": "0152ff4d-8fff-4308-881a-1d8a92ca0a3b",
   "metadata": {},
   "outputs": [
    {
     "name": "stdout",
     "output_type": "stream",
     "text": [
      "Sample duplicate contacts:\n",
      "  Target_label   Cell_name Chr_name  Bin_1  Bin_2  Count\n",
      "0       late_S  late_S_273     chr1     95     95      1\n",
      "1       late_S  late_S_273     chr1     14     14      1\n",
      "2       late_S  late_S_273     chr1     45     84      1\n",
      "3       late_S  late_S_273     chr1     52     53      1\n",
      "4       late_S  late_S_273     chr1    159    159      1\n"
     ]
    }
   ],
   "source": [
    "# Get a sample of duplicate rows if any\n",
    "if dup_contacts > 0:\n",
    "    print(\"Sample duplicate contacts:\")\n",
    "    print(df[df.duplicated(\n",
    "        subset=[\"Cell_name\", \"Chr_name\", \"Bin_1\", \"Bin_2\"],\n",
    "        keep=False\n",
    "    )].head())"
   ]
  },
  {
   "cell_type": "code",
   "execution_count": 30,
   "id": "bf900cb7-6b15-49c9-83b0-2982f099cfac",
   "metadata": {},
   "outputs": [
    {
     "name": "stdout",
     "output_type": "stream",
     "text": [
      "    Cell_name Chr_name  Bin_1  Bin_2  n_occurrences  sum_count  mean_count\n",
      "80       G1_1     chr1     19     19             32         36    1.125000\n",
      "428      G1_1     chr1     90     90             32         43    1.343750\n",
      "260      G1_1     chr1     61     61             28         31    1.107143\n",
      "762      G1_1     chr1    161    161             27         32    1.185185\n",
      "844      G1_1     chr1    184    184             27         40    1.481481\n",
      "227      G1_1     chr1     54     54             26         30    1.153846\n",
      "265      G1_1     chr1     63     63             26         37    1.423077\n",
      "426      G1_1     chr1     89     89             26         30    1.153846\n",
      "252      G1_1     chr1     58     58             25         34    1.360000\n",
      "339      G1_1     chr1     74     74             25         26    1.040000\n",
      "351      G1_1     chr1     76     76             25         27    1.080000\n",
      "574      G1_1     chr1    121    121             25         35    1.400000\n",
      "359      G1_1     chr1     77     77             24         34    1.416667\n",
      "515      G1_1     chr1    106    106             24         28    1.166667\n",
      "520      G1_1     chr1    107    107             24         33    1.375000\n",
      "547      G1_1     chr1    115    115             24         24    1.000000\n",
      "860      G1_1     chr1    188    188             24         30    1.250000\n",
      "99       G1_1     chr1     23     23             23         26    1.130435\n",
      "263      G1_1     chr1     62     62             23         26    1.130435\n",
      "877      G1_1     chr1    194    194             23         27    1.173913\n"
     ]
    }
   ],
   "source": [
    "keys = [\"Cell_name\", \"Chr_name\", \"Bin_1\", \"Bin_2\"]\n",
    "\n",
    "g = (\n",
    "    df.groupby(keys)\n",
    "      .agg(n_occurrences=(\"Count\", \"size\"),  # how many rows for this key\n",
    "           sum_count=(\"Count\", \"sum\"),\n",
    "           mean_count=(\"Count\", \"mean\"))\n",
    "      .reset_index()\n",
    ")\n",
    "\n",
    "dups_only = g[g[\"n_occurrences\"] > 1].sort_values([\"Cell_name\",\"Chr_name\",\"n_occurrences\"], ascending=[True,True,False])\n",
    "print(dups_only.head(20))"
   ]
  },
  {
   "cell_type": "code",
   "execution_count": 32,
   "id": "d235dc8f-a16c-474c-a418-8cb8e48f6322",
   "metadata": {},
   "outputs": [
    {
     "name": "stdout",
     "output_type": "stream",
     "text": [
      "     Target_label   Cell_name Chr_name  Bin_1  Bin_2  Count\n",
      "2          late_S  late_S_273     chr1     45     84      1\n",
      "4854       late_S  late_S_273     chr1     45     84      1\n"
     ]
    }
   ],
   "source": [
    "print(df[\n",
    "      (\n",
    "          (df[\"Cell_name\"] == \"late_S_273\") &\n",
    "          (df[\"Chr_name\"] == \"chr1\") &\n",
    "          (df[\"Bin_1\"] == 45) &\n",
    "          (df[\"Bin_2\"] == 84)\n",
    "      )\n",
    "     ])"
   ]
  },
  {
   "cell_type": "code",
   "execution_count": 33,
   "id": "c365eaa1-1f62-4c4c-903a-e095cc3f183e",
   "metadata": {},
   "outputs": [
    {
     "name": "stdout",
     "output_type": "stream",
     "text": [
      "          Target_label Cell_name Chr_name  Bin_1  Bin_2  Count\n",
      "115576152           G1      G1_1     chr1    184    184      1\n",
      "115576223           G1      G1_1     chr1    184    184      1\n",
      "115576226           G1      G1_1     chr1    184    184      1\n",
      "115576396           G1      G1_1     chr1    184    184      2\n",
      "115576428           G1      G1_1     chr1    184    184      1\n",
      "115576720           G1      G1_1     chr1    184    184      1\n",
      "115577217           G1      G1_1     chr1    184    184      1\n",
      "115577362           G1      G1_1     chr1    184    184      1\n",
      "115577504           G1      G1_1     chr1    184    184      1\n",
      "115577697           G1      G1_1     chr1    184    184      1\n",
      "115578243           G1      G1_1     chr1    184    184      1\n",
      "115578443           G1      G1_1     chr1    184    184      5\n",
      "115578622           G1      G1_1     chr1    184    184      1\n",
      "115578681           G1      G1_1     chr1    184    184      1\n",
      "115578744           G1      G1_1     chr1    184    184      1\n",
      "115578852           G1      G1_1     chr1    184    184      1\n",
      "115578945           G1      G1_1     chr1    184    184      2\n",
      "115578988           G1      G1_1     chr1    184    184      1\n",
      "115579117           G1      G1_1     chr1    184    184      3\n",
      "115579139           G1      G1_1     chr1    184    184      2\n",
      "115579317           G1      G1_1     chr1    184    184      1\n",
      "115579382           G1      G1_1     chr1    184    184      4\n",
      "115579395           G1      G1_1     chr1    184    184      2\n",
      "115579451           G1      G1_1     chr1    184    184      1\n",
      "115579583           G1      G1_1     chr1    184    184      1\n",
      "115579676           G1      G1_1     chr1    184    184      1\n",
      "115579828           G1      G1_1     chr1    184    184      1\n"
     ]
    }
   ],
   "source": [
    "print(df[\n",
    "      (\n",
    "          (df[\"Cell_name\"] == \"G1_1\") &\n",
    "          (df[\"Chr_name\"] == \"chr1\") &\n",
    "          (df[\"Bin_1\"] == 184) &\n",
    "          (df[\"Bin_2\"] == 184)\n",
    "      )\n",
    "     ])"
   ]
  },
  {
   "cell_type": "code",
   "execution_count": 44,
   "id": "1e71bdd7-85dc-4307-a51e-4b1ac7eb5d6e",
   "metadata": {},
   "outputs": [],
   "source": [
    "# Collapse duplicates by summing Count\n",
    "keys = [\"Target_label\", \"Cell_name\", \"Chr_name\", \"Bin_1\", \"Bin_2\"]\n",
    "\n",
    "df_agg = (\n",
    "    df.groupby(keys, as_index=False, sort=False)\n",
    "      .agg(Count=(\"Count\", \"sum\"))\n",
    ")"
   ]
  },
  {
   "cell_type": "code",
   "execution_count": 45,
   "id": "7302c85b-7927-4b69-b124-9a0f9e657f22",
   "metadata": {},
   "outputs": [
    {
     "name": "stdout",
     "output_type": "stream",
     "text": [
      "After collapsing duplicates: 20214896\n"
     ]
    }
   ],
   "source": [
    "print(\"After collapsing duplicates:\", len(df_agg))"
   ]
  },
  {
   "cell_type": "code",
   "execution_count": 46,
   "id": "111a7c24-b449-496c-9c19-13d6c041f5c2",
   "metadata": {},
   "outputs": [
    {
     "name": "stdout",
     "output_type": "stream",
     "text": [
      "         Target_label   Cell_name Chr_name  Bin_1  Bin_2  Count\n",
      "0              late_S  late_S_273     chr1     95     95     72\n",
      "1              late_S  late_S_273     chr1     14     14     42\n",
      "2              late_S  late_S_273     chr1     45     84      2\n",
      "3              late_S  late_S_273     chr1     52     53      6\n",
      "4              late_S  late_S_273     chr1    159    159     53\n",
      "...               ...         ...      ...    ...    ...    ...\n",
      "20214891        mid_S    mid_S_12     chr8     77     79      1\n",
      "20214892        mid_S    mid_S_12     chr8     75    100      1\n",
      "20214893        mid_S    mid_S_12     chr8     80    103      1\n",
      "20214894        mid_S    mid_S_12     chr8     22     77      1\n",
      "20214895        mid_S    mid_S_12     chr8     74     91      1\n",
      "\n",
      "[20214896 rows x 6 columns]\n"
     ]
    }
   ],
   "source": [
    "print(df_agg)"
   ]
  },
  {
   "cell_type": "code",
   "execution_count": 47,
   "id": "33fd819d-9a63-48bd-b948-4fb09d6dc398",
   "metadata": {},
   "outputs": [
    {
     "name": "stdout",
     "output_type": "stream",
     "text": [
      "Saved aggregated dataset to Nagano_Aggregated.csv\n"
     ]
    }
   ],
   "source": [
    "out_path = \"Nagano_Aggregated.csv\"\n",
    "df_agg.to_csv(out_path, index=False)\n",
    "\n",
    "print(f\"Saved aggregated dataset to {out_path}\")"
   ]
  }
 ],
 "metadata": {
  "kernelspec": {
   "display_name": "Python 3 (ipykernel)",
   "language": "python",
   "name": "python3"
  },
  "language_info": {
   "codemirror_mode": {
    "name": "ipython",
    "version": 3
   },
   "file_extension": ".py",
   "mimetype": "text/x-python",
   "name": "python",
   "nbconvert_exporter": "python",
   "pygments_lexer": "ipython3",
   "version": "3.12.9"
  }
 },
 "nbformat": 4,
 "nbformat_minor": 5
}
